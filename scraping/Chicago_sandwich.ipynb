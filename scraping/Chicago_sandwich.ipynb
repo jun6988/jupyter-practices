{
 "cells": [
  {
   "cell_type": "code",
   "execution_count": 1,
   "id": "5686c625",
   "metadata": {},
   "outputs": [],
   "source": [
    "from bs4 import BeautifulSoup\n",
    "import requests"
   ]
  },
  {
   "cell_type": "code",
   "execution_count": 2,
   "id": "23f5aeb0",
   "metadata": {},
   "outputs": [],
   "source": [
    "url = 'https://www.chicagomag.com/Chicago-Magazine/November-2012/Best-Sandwiches-Chicago/'\n",
    "# block 해제 방법(인터넷 검색) : headers={\"User-Agent\":\"Mozilla/5.0\"} \n",
    "html = requests.get(url, headers={\"User-Agent\":\"Mozilla/5.0\"}).text\n",
    "soup = BeautifulSoup(html, 'lxml')"
   ]
  },
  {
   "cell_type": "code",
   "execution_count": 3,
   "id": "debca4de",
   "metadata": {},
   "outputs": [
    {
     "data": {
      "text/plain": [
       "50"
      ]
     },
     "execution_count": 3,
     "metadata": {},
     "output_type": "execute_result"
    }
   ],
   "source": [
    "# 햄버거 종류 개수\n",
    "len(soup.select('div.sammy'))"
   ]
  },
  {
   "cell_type": "code",
   "execution_count": 4,
   "id": "885d16bc",
   "metadata": {},
   "outputs": [
    {
     "data": {
      "text/plain": [
       "<div class=\"sammy\" style=\"position: relative;\">\n",
       "<div class=\"sammyRank\">1</div>\n",
       "<div class=\"sammyListing\"><a href=\"/Chicago-Magazine/November-2012/Best-Sandwiches-in-Chicago-Old-Oak-Tap-BLT/\"><b>BLT</b><br/>\n",
       "Old Oak Tap<br/>\n",
       "<em>Read more</em> </a></div>\n",
       "</div>"
      ]
     },
     "execution_count": 4,
     "metadata": {},
     "output_type": "execute_result"
    }
   ],
   "source": [
    "# Rank 1 햄버거 info\n",
    "soup.select('div.sammy')[0]"
   ]
  },
  {
   "cell_type": "code",
   "execution_count": 5,
   "id": "2e6263f4",
   "metadata": {},
   "outputs": [],
   "source": [
    "tmp = soup.select('div.sammy')[0]"
   ]
  },
  {
   "cell_type": "code",
   "execution_count": 6,
   "id": "6e193850",
   "metadata": {},
   "outputs": [
    {
     "data": {
      "text/plain": [
       "'1'"
      ]
     },
     "execution_count": 6,
     "metadata": {},
     "output_type": "execute_result"
    }
   ],
   "source": [
    "tmp.select('.sammyRank')[0].text"
   ]
  },
  {
   "cell_type": "code",
   "execution_count": 7,
   "id": "87c2681d",
   "metadata": {},
   "outputs": [
    {
     "data": {
      "text/plain": [
       "'BLT\\nOld Oak Tap\\nRead more '"
      ]
     },
     "execution_count": 7,
     "metadata": {},
     "output_type": "execute_result"
    }
   ],
   "source": [
    "tmp.select('.sammyListing')[0].text"
   ]
  },
  {
   "cell_type": "code",
   "execution_count": 8,
   "id": "6286a4f4",
   "metadata": {},
   "outputs": [
    {
     "data": {
      "text/plain": [
       "'/Chicago-Magazine/November-2012/Best-Sandwiches-in-Chicago-Old-Oak-Tap-BLT/'"
      ]
     },
     "execution_count": 8,
     "metadata": {},
     "output_type": "execute_result"
    }
   ],
   "source": [
    "tmp.find('a')['href']"
   ]
  },
  {
   "cell_type": "code",
   "execution_count": 9,
   "id": "89c006bf",
   "metadata": {},
   "outputs": [
    {
     "data": {
      "text/plain": [
       "['BLT', 'Old Oak Tap', 'Read more ']"
      ]
     },
     "execution_count": 9,
     "metadata": {},
     "output_type": "execute_result"
    }
   ],
   "source": [
    "info_str = tmp.select('.sammyListing')[0].text\n",
    "info_list = info_str.split('\\n')\n",
    "info_list"
   ]
  },
  {
   "cell_type": "code",
   "execution_count": 10,
   "id": "ac420f87",
   "metadata": {},
   "outputs": [],
   "source": [
    "rank = []\n",
    "main_menu = []\n",
    "cafe_name = []\n",
    "link_url = []\n",
    "\n",
    "list_soup = soup.select('div.sammy')\n",
    "\n",
    "for item in list_soup:\n",
    "    rank.append(item.select('.sammyRank')[0].text)\n",
    "    list_string = \\\n",
    "            item.select('.sammyListing')[0].text.split('\\n')\n",
    "    main_menu.append(list_string[0])\n",
    "    cafe_name.append(list_string[1])\n",
    "    link_url.append(item.find('a')['href'])"
   ]
  },
  {
   "cell_type": "code",
   "execution_count": 11,
   "id": "3860c08c",
   "metadata": {},
   "outputs": [
    {
     "name": "stdout",
     "output_type": "stream",
     "text": [
      "50 50 50 50\n"
     ]
    }
   ],
   "source": [
    "print(len(rank), len(main_menu), len(cafe_name), \n",
    "     len(link_url))"
   ]
  },
  {
   "cell_type": "code",
   "execution_count": 13,
   "id": "4534a523",
   "metadata": {},
   "outputs": [],
   "source": [
    "base_url = 'https://www.chicagomag.com/Chicago-Magazine/November-2012/Best-Sandwiches-Chicago/'"
   ]
  },
  {
   "cell_type": "code",
   "execution_count": 14,
   "id": "787c8dde",
   "metadata": {},
   "outputs": [
    {
     "data": {
      "application/vnd.jupyter.widget-view+json": {
       "model_id": "52f9221fe7f9455e8ead8c4c6488c8c1",
       "version_major": 2,
       "version_minor": 0
      },
      "text/plain": [
       "  0%|          | 0/50 [00:00<?, ?it/s]"
      ]
     },
     "metadata": {},
     "output_type": "display_data"
    }
   ],
   "source": [
    "from urllib.parse import urljoin\n",
    "from tqdm.notebook import tqdm\n",
    "\n",
    "rank = []\n",
    "main_menu = []\n",
    "cafe_name = []\n",
    "link_url = []\n",
    "\n",
    "list_soup = soup.select('div.sammy')\n",
    "\n",
    "for item in tqdm(list_soup):\n",
    "    rank.append(item.select('.sammyRank')[0].text)\n",
    "    list_string = \\\n",
    "            item.select('.sammyListing')[0].text.split('\\n')\n",
    "    main_menu.append(list_string[0])\n",
    "    cafe_name.append(list_string[1])\n",
    "    link_url.append(urljoin(base_url, \n",
    "                            item.find('a')['href']))"
   ]
  },
  {
   "cell_type": "code",
   "execution_count": null,
   "id": "06eb6025",
   "metadata": {},
   "outputs": [],
   "source": []
  }
 ],
 "metadata": {
  "kernelspec": {
   "display_name": "Python 3 (ipykernel)",
   "language": "python",
   "name": "python3"
  },
  "language_info": {
   "codemirror_mode": {
    "name": "ipython",
    "version": 3
   },
   "file_extension": ".py",
   "mimetype": "text/x-python",
   "name": "python",
   "nbconvert_exporter": "python",
   "pygments_lexer": "ipython3",
   "version": "3.8.15"
  }
 },
 "nbformat": 4,
 "nbformat_minor": 5
}
