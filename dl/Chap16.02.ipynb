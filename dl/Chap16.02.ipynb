{
 "cells": [
  {
   "cell_type": "markdown",
   "id": "a06aee14",
   "metadata": {},
   "source": [
    "## Convolution 기법\n",
    "- 공간영역기반 처리\n",
    "- mask내의 원소값과 공간영역에 있는 입력 영상 화소값들을 대응되게 곱하여 출력화소값을 계산\n",
    "- 이때 곱해지는 mask를 kernel이라고도 함\n",
    "\n",
    "적용범위 :\n",
    "Blurring\n",
    "영상을 밝게 수정하면서 약간 흐리게 처리 (뽀샵)\n",
    "급격한 화소차이를 점진적으로 바뀌게 도와줌\n",
    "\n",
    "Sharpening 약간 뚜렷하게 표시 출력화소에서 이웃간 화소차이를 크게함"
   ]
  },
  {
   "cell_type": "code",
   "execution_count": 1,
   "id": "e1dc4184",
   "metadata": {},
   "outputs": [],
   "source": [
    "from tensorflow.keras import models, layers\n",
    "from tensorflow.keras.callbacks import EarlyStopping, ModelCheckpoint\n",
    "from tensorflow.keras.datasets import mnist\n",
    "from tensorflow.keras.utils import to_categorical\n",
    "\n",
    "import numpy as np\n",
    "import matplotlib.pyplot as plt\n",
    "import os\n",
    "os.environ[\"KMP_DUPLICATE_LIB_OK\"]='1'"
   ]
  },
  {
   "cell_type": "code",
   "execution_count": 2,
   "id": "10faf3e7",
   "metadata": {},
   "outputs": [],
   "source": [
    "(X_train, y_train), (X_test, y_test) = mnist.load_data()\n",
    "\n",
    "# 이전에 28*28으로 2차원으로 만들어줬는데\n",
    "# Convolution기법은 사진 그대로를 써준다\n",
    "# 28,28 뒤의 1은 흑백or컬러를 의미 -> 흑백 = 1 채널, 컬러 = 3채널\n",
    "X_train = X_train.reshape(X_train.shape[0], 28, 28, 1).astype(float) / 255\n",
    "X_test = X_test.reshape(X_test.shape[0], 28,28, 1).astype(float) / 255\n",
    "y_train = to_categorical(y_train)\n",
    "y_test = to_categorical(y_test)"
   ]
  },
  {
   "cell_type": "code",
   "execution_count": 3,
   "id": "e21a917b",
   "metadata": {},
   "outputs": [
    {
     "name": "stdout",
     "output_type": "stream",
     "text": [
      "Model: \"sequential\"\n",
      "_________________________________________________________________\n",
      " Layer (type)                Output Shape              Param #   \n",
      "=================================================================\n",
      " conv2d (Conv2D)             (None, 26, 26, 32)        320       \n",
      "                                                                 \n",
      " conv2d_1 (Conv2D)           (None, 24, 24, 64)        18496     \n",
      "                                                                 \n",
      " max_pooling2d (MaxPooling2D  (None, 12, 12, 64)       0         \n",
      " )                                                               \n",
      "                                                                 \n",
      " dropout (Dropout)           (None, 12, 12, 64)        0         \n",
      "                                                                 \n",
      " flatten (Flatten)           (None, 9216)              0         \n",
      "                                                                 \n",
      " dense (Dense)               (None, 128)               1179776   \n",
      "                                                                 \n",
      " dropout_1 (Dropout)         (None, 128)               0         \n",
      "                                                                 \n",
      " dense_1 (Dense)             (None, 10)                1290      \n",
      "                                                                 \n",
      "=================================================================\n",
      "Total params: 1,199,882\n",
      "Trainable params: 1,199,882\n",
      "Non-trainable params: 0\n",
      "_________________________________________________________________\n"
     ]
    }
   ],
   "source": [
    "model = models.Sequential()\n",
    "\n",
    "# parameter 계산법\n",
    "# parameter = weight + bias\n",
    "# weight = 입력 수 x 가중치 x 출력 수\n",
    "\n",
    "\n",
    "# 새로운 parameter 생성 ==> (입력수 1 x kernel(가중치)(3x3) x 출력수 32) + bias32 = 320\n",
    "model.add(layers.Conv2D(32, kernel_size=(3, 3), input_shape=(28, 28, 1), activation='relu'))\n",
    "\n",
    "# 새로운 parameter 생성 ==> (입력수 32 x kernel(가중치)(3x3) x 출력수 64) + bias 64 = 18496\n",
    "model.add(layers.Conv2D(64, kernel_size=(3, 3), activation='relu'))\n",
    "\n",
    "# 2x2의 범위에서 가장 큰 값만 나타내줌... 24*24에서 12*12로 줄어들음 # 모자이크가 사용 예\n",
    "# 새로운 parameter 생성x\n",
    "model.add(layers.MaxPooling2D(pool_size=(2, 2)))\n",
    "\n",
    "# 전체 네트워크의 25%를 임의로 끊어버려서 뒤쪽으로 가는 순전파 양을 줄게끔함 # 효율적으로 과대적합을 막아줌\n",
    "# 새로운 parameter 생성x (존재는 하는데 계산만 안하는 것)\n",
    "model.add(layers.Dropout(0.25))\n",
    "\n",
    "# 1차원으로 데이터를 쫘악 펼침\n",
    "# 새로운 parameter 생성x\n",
    "# 입력수가 12(맨처음 28 -> conv2D 26 -> conv2D 24 -> MaxPooling 12) x 12 x 64 로 바뀜 = 9216\n",
    "model.add(layers.Flatten())\n",
    "\n",
    "# 새로운 parameter 생성 ==> (입력 수 9216 x 출력 수 128) + bias 128 = 1179776\n",
    "model.add(layers.Dense(128, activation='relu'))\n",
    "model.add(layers.Dropout(0.25))\n",
    "\n",
    "# 새로운 parameter 생성 ==> (입력 수 128 x 출력 수 10) + bias 10 = 1290\n",
    "model.add(layers.Dense(10, activation='softmax'))\n",
    "model.summary()"
   ]
  },
  {
   "cell_type": "markdown",
   "id": "ee57a17f",
   "metadata": {},
   "source": [
    "- 1 첫 번째 인자: 커널을 몇 개 적용할지 정함. 여기서는 32개의 커널을 적용\n",
    "\n",
    "- 2 kernel_size: 커널의 크기를 정함. kernel_size=(행, 열) 형식으로 정하며, 여기서는 3×3 크기의 커널을 사용하게끔 정함\n",
    "\n",
    "- 3 input_shape: Dense 층과 마찬가지로 맨 처음 층에는 입력되는 값을 알려 주어야함 input_shape=(행, 열, 색상 또는 흑백) 형식으로 정함. 만약 입력 이미지가 색상이면 3, 흑백이면 1을 지정함. 여기서는 28×28 크기의 흑백 이미지를 사용하도록 정함\n",
    "\n",
    "- 4 activation: 사용할 활성화 함수를 정의"
   ]
  },
  {
   "cell_type": "code",
   "execution_count": 4,
   "id": "70c39cd5",
   "metadata": {},
   "outputs": [],
   "source": [
    "# 모델의 실행 옵션을 설정 (손실함수)\n",
    "model.compile(loss='categorical_crossentropy', optimizer='adam', metrics=['accuracy'])"
   ]
  },
  {
   "cell_type": "code",
   "execution_count": 5,
   "id": "27c4ae5f",
   "metadata": {},
   "outputs": [
    {
     "name": "stdout",
     "output_type": "stream",
     "text": [
      "Epoch 1/30\n",
      "225/225 [==============================] - 23s 99ms/step - loss: 0.2611 - accuracy: 0.9220 - val_loss: 0.0722 - val_accuracy: 0.9786\n",
      "Epoch 2/30\n",
      "225/225 [==============================] - 22s 100ms/step - loss: 0.0694 - accuracy: 0.9787 - val_loss: 0.0542 - val_accuracy: 0.9826\n",
      "Epoch 3/30\n",
      "225/225 [==============================] - 23s 100ms/step - loss: 0.0460 - accuracy: 0.9859 - val_loss: 0.0510 - val_accuracy: 0.9851\n",
      "Epoch 4/30\n",
      "225/225 [==============================] - 22s 99ms/step - loss: 0.0359 - accuracy: 0.9888 - val_loss: 0.0397 - val_accuracy: 0.9881\n",
      "Epoch 5/30\n",
      "225/225 [==============================] - 22s 99ms/step - loss: 0.0275 - accuracy: 0.9912 - val_loss: 0.0397 - val_accuracy: 0.9880\n",
      "Epoch 6/30\n",
      "225/225 [==============================] - 23s 104ms/step - loss: 0.0236 - accuracy: 0.9927 - val_loss: 0.0446 - val_accuracy: 0.9859\n",
      "Epoch 7/30\n",
      "225/225 [==============================] - 22s 99ms/step - loss: 0.0201 - accuracy: 0.9936 - val_loss: 0.0438 - val_accuracy: 0.9879\n",
      "Epoch 8/30\n",
      "225/225 [==============================] - 24s 107ms/step - loss: 0.0201 - accuracy: 0.9934 - val_loss: 0.0449 - val_accuracy: 0.9871\n",
      "Epoch 9/30\n",
      "225/225 [==============================] - 23s 101ms/step - loss: 0.0140 - accuracy: 0.9954 - val_loss: 0.0435 - val_accuracy: 0.9885\n",
      "Epoch 10/30\n",
      "225/225 [==============================] - 23s 101ms/step - loss: 0.0127 - accuracy: 0.9955 - val_loss: 0.0407 - val_accuracy: 0.9893\n",
      "Epoch 11/30\n",
      "225/225 [==============================] - 22s 98ms/step - loss: 0.0138 - accuracy: 0.9953 - val_loss: 0.0437 - val_accuracy: 0.9880\n",
      "Epoch 12/30\n",
      "225/225 [==============================] - 22s 98ms/step - loss: 0.0108 - accuracy: 0.9962 - val_loss: 0.0550 - val_accuracy: 0.9874\n",
      "Epoch 13/30\n",
      "225/225 [==============================] - 22s 98ms/step - loss: 0.0099 - accuracy: 0.9965 - val_loss: 0.0486 - val_accuracy: 0.9895\n",
      "Epoch 14/30\n",
      "225/225 [==============================] - 22s 98ms/step - loss: 0.0084 - accuracy: 0.9975 - val_loss: 0.0479 - val_accuracy: 0.9901\n",
      "Epoch 15/30\n",
      "225/225 [==============================] - 23s 101ms/step - loss: 0.0088 - accuracy: 0.9970 - val_loss: 0.0507 - val_accuracy: 0.9883\n"
     ]
    }
   ],
   "source": [
    "early_stopping = EarlyStopping(monitor='val_loss', patience=10)\n",
    "\n",
    "history = model.fit(X_train, y_train, validation_split=0.25, epochs=30, batch_size=200, callbacks=[early_stopping])"
   ]
  },
  {
   "cell_type": "code",
   "execution_count": 6,
   "id": "15c4b51c",
   "metadata": {},
   "outputs": [
    {
     "name": "stdout",
     "output_type": "stream",
     "text": [
      "313/313 [==============================] - 2s 4ms/step - loss: 0.0341 - accuracy: 0.9908\n",
      "Test Accuracy: 0.9908\n"
     ]
    }
   ],
   "source": [
    "# 테스트의 정확도를 출력\n",
    "print(\"Test Accuracy: %.4f\" % (model.evaluate(X_test, y_test)[1]))"
   ]
  },
  {
   "cell_type": "code",
   "execution_count": 7,
   "id": "7d0afc31",
   "metadata": {},
   "outputs": [
    {
     "data": {
      "image/png": "[encoded data removed]",
      "text/plain": [
       "<Figure size 640x480 with 1 Axes>"
      ]
     },
     "metadata": {},
     "output_type": "display_data"
    }
   ],
   "source": [
    "# 검증셋과 학습셋의 오차를 저장합니다. \n",
    "y_vloss = history.history['val_loss']\n",
    "y_loss = history.history['loss']\n",
    "\n",
    "# 그래프로 표현해 봅니다.\n",
    "x_len = np.arange(len(y_loss))\n",
    "plt.plot(x_len, y_vloss, marker='.', c=\"red\", label='Testset_loss')\n",
    "plt.plot(x_len, y_loss, marker='.', c=\"blue\", label='Trainset_loss')\n",
    "\n",
    "# 그래프에 그리드를 주고 레이블을 표시해 보겠습니다.\n",
    "plt.legend(loc='upper right')\n",
    "plt.grid()\n",
    "plt.xlabel('epoch')\n",
    "plt.ylabel('loss')\n",
    "plt.show()"
   ]
  },
  {
   "cell_type": "code",
   "execution_count": null,
   "id": "7410f326",
   "metadata": {},
   "outputs": [],
   "source": []
  }
 ],
 "metadata": {
  "kernelspec": {
   "display_name": "Python 3 (ipykernel)",
   "language": "python",
   "name": "python3"
  },
  "language_info": {
   "codemirror_mode": {
    "name": "ipython",
    "version": 3
   },
   "file_extension": ".py",
   "mimetype": "text/x-python",
   "name": "python",
   "nbconvert_exporter": "python",
   "pygments_lexer": "ipython3",
   "version": "3.8.15"
  }
 },
 "nbformat": 4,
 "nbformat_minor": 5
}
