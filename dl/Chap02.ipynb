{
 "cells": [
  {
   "cell_type": "markdown",
   "id": "e5605fc0",
   "metadata": {},
   "source": [
    "# 모두의 딥러닝\n",
    "## 2장> 딥러닝 핵심 미리 보기\n",
    "6개의 feature\n",
    "17번째는 target"
   ]
  },
  {
   "cell_type": "code",
   "execution_count": 1,
   "id": "940d440c",
   "metadata": {},
   "outputs": [],
   "source": [
    "# 1. 환경 준비\n",
    "from tensorflow.keras import models, layers\n",
    "import numpy as np\n",
    "import pandas as pd"
   ]
  },
  {
   "cell_type": "code",
   "execution_count": 2,
   "id": "6b5140fb",
   "metadata": {},
   "outputs": [],
   "source": [
    "# 2. 데이터 준비\n",
    "data_set = np.loadtxt('data/ThoraricSurgery3.csv', delimiter=',')  # delimiter:구분자\n",
    "X = data_set[:, :16]  # : 모든 행  # 입력feature\n",
    "y = data_set[:, 16]   # target"
   ]
  },
  {
   "cell_type": "markdown",
   "id": "308b5a75",
   "metadata": {},
   "source": [
    "- SubClassing : 하나에서 분화되었다가 다시 합처짐\n",
    "- Sequesntial Model : 층층이 쌓인 경우\n",
    "\n",
    "- Keras에서 제공하는 Fully Connected Layers\n",
    "- dense(출력 갯수, 입력 갯수, 활성화함수)\n",
    "- input 16 / hidden 30\n",
    "\n",
    "- 앞쪽의 출력이 뒷쪽의 입력이므로 dense(출력, 입력생략, 활성화함수)\n",
    "\n",
    "- 입력층 weight 16 30\n",
    "- 입력층 bias 1 30\n",
    "\n",
    "- 은닉층 weight 30 1\n",
    "- 은닉층 bias 1\n",
    "\n",
    "- 출력 param 541 (480+31)"
   ]
  },
  {
   "cell_type": "code",
   "execution_count": 3,
   "id": "d49c8ddf",
   "metadata": {},
   "outputs": [],
   "source": [
    "# 3. 구조 결정\n",
    "model = models.Sequential()\n",
    "model.add(layers.Dense(30, input_dim=16, activation='relu'))\n",
    "model.add(layers.Dense(1, activation='sigmoid'))"
   ]
  },
  {
   "cell_type": "code",
   "execution_count": 4,
   "id": "e93c8fd0",
   "metadata": {},
   "outputs": [
    {
     "name": "stdout",
     "output_type": "stream",
     "text": [
      "Model: \"sequential\"\n",
      "_________________________________________________________________\n",
      " Layer (type)                Output Shape              Param #   \n",
      "=================================================================\n",
      " dense (Dense)               (None, 30)                510       \n",
      "                                                                 \n",
      " dense_1 (Dense)             (None, 1)                 31        \n",
      "                                                                 \n",
      "=================================================================\n",
      "Total params: 541\n",
      "Trainable params: 541\n",
      "Non-trainable params: 0\n",
      "_________________________________________________________________\n"
     ]
    }
   ],
   "source": [
    "model.summary()"
   ]
  },
  {
   "cell_type": "code",
   "execution_count": 5,
   "id": "8a711b29",
   "metadata": {},
   "outputs": [],
   "source": [
    "# 4. 모델실행\n",
    "\n",
    "# Keras에서 제공하는 이진분류 손실함수\n",
    "model.compile(loss='binary_crossentropy', optimizer='adam', metrics=['accuracy'])\n"
   ]
  },
  {
   "cell_type": "code",
   "execution_count": 6,
   "id": "bda8da77",
   "metadata": {},
   "outputs": [
    {
     "name": "stdout",
     "output_type": "stream",
     "text": [
      "Epoch 1/5\n",
      "30/30 [==============================] - 1s 1ms/step - loss: 1.3674 - accuracy: 0.8511 \n",
      "Epoch 2/5\n",
      "30/30 [==============================] - 0s 1ms/step - loss: 0.4426 - accuracy: 0.8468\n",
      "Epoch 3/5\n",
      "30/30 [==============================] - 0s 1ms/step - loss: 0.4255 - accuracy: 0.8553\n",
      "Epoch 4/5\n",
      "30/30 [==============================] - 0s 1ms/step - loss: 0.4229 - accuracy: 0.8532\n",
      "Epoch 5/5\n",
      "30/30 [==============================] - 0s 1ms/step - loss: 0.4236 - accuracy: 0.8511\n"
     ]
    }
   ],
   "source": [
    "history = model.fit(X, y, epochs=5, batch_size=16)\n",
    "# # X(입력feature)가 y(target)임을 학습시키기\n",
    "# 한 Epoch에 파라미터 갱신 30번"
   ]
  },
  {
   "cell_type": "code",
   "execution_count": null,
   "id": "55b222a2",
   "metadata": {},
   "outputs": [],
   "source": []
  }
 ],
 "metadata": {
  "kernelspec": {
   "display_name": "Python 3 (ipykernel)",
   "language": "python",
   "name": "python3"
  },
  "language_info": {
   "codemirror_mode": {
    "name": "ipython",
    "version": 3
   },
   "file_extension": ".py",
   "mimetype": "text/x-python",
   "name": "python",
   "nbconvert_exporter": "python",
   "pygments_lexer": "ipython3",
   "version": "3.8.15"
  }
 },
 "nbformat": 4,
 "nbformat_minor": 5
}
