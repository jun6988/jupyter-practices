{
 "cells": [
  {
   "cell_type": "markdown",
   "id": "12f2dbd1",
   "metadata": {},
   "source": [
    "# 모두의 딥러닝 개정 3판\n",
    "## 20장 전이 학습을 통해 딥러닝의 성능 극대화하기\n",
    "- 머신 러닝과 달리 딥러닝은 스스로 중요한 속성을 뽑아 학습하기 때문에 비교적 많은 양의 데이터 필요\n",
    "- 딥러닝의 데이터양이 충분하지 않을 때 활용할 수 있는 방법들 배울 예정\n",
    "- 전이 학습(transfer learning): 수만 장에 달하는 기존의 이미지에서 학습한 정보를 가져와 내 프로젝트에 활용하는 것\n",
    "### 1 소규모 데이터셋으로 만드는 강력한 학습 모델\n",
    "- 지도학습(supervised learning) : 정답을 알고 학습 폐암수술 환자의 생존율 예측, 피마 인디언의 당뇨병 예측, CNN을 이용한 MNIST 분류, CNN을 이용한 치매환자 MRI 뇌 사진 분류\n",
    "- 비지도학습(unsupervised learning) : 정답 없이 시작하여 정답 예측 GAN이, 오토인코더\n",
    "\n",
    "- 이미지 같은경우 충분한 학습데이터를 모으는것이 쉽지않음\n",
    "- 이럴때 쓸수있는 방법을 두가지를 알아볼것\n",
    "- 각 data폴더안에 train, test폴더에\n",
    "- normal 정상뇌사진 ad 치매뇌사진이\n",
    "- train 80장씩 test 60장씩 있음"
   ]
  },
  {
   "cell_type": "code",
   "execution_count": 1,
   "id": "27e2af01",
   "metadata": {},
   "outputs": [],
   "source": [
    "from tensorflow.keras import models, layers, optimizers\n",
    "from tensorflow.keras.preprocessing.image import ImageDataGenerator\n",
    "from tensorflow.keras.callbacks import EarlyStopping\n",
    "import numpy as np\n",
    "import matplotlib.pyplot as plt\n",
    "import os\n",
    "\n",
    "os.environ['KMP_DUPLICATE_LIB_OK']=\"TRUE\""
   ]
  },
  {
   "cell_type": "code",
   "execution_count": 2,
   "id": "7056413d",
   "metadata": {},
   "outputs": [],
   "source": [
    "BATCH_SIZE = 5"
   ]
  },
  {
   "cell_type": "markdown",
   "id": "91a408ee",
   "metadata": {},
   "source": [
    "- ImageDataGenerator() : keras에서 제공하는 데이터가 아닌 내 데이터 읽어오기 주어진 데이터 변형한 이미지를 만들어 학습셋에 포함시켜줌 이는 학습셋에만 적용하는 것이 좋음. 테스트셋에 실제 정보를 유지시키는 것이 과적합 위험 방지 가능\n",
    "- flow_from_directory() : 폴더에 저장된 데이터를 불러오기"
   ]
  },
  {
   "cell_type": "code",
   "execution_count": 3,
   "id": "465a5969",
   "metadata": {},
   "outputs": [],
   "source": [
    "# 학습셋의 변형 설정\n",
    "# 데이터 특성에 맞게 항목을 골라써야함\n",
    "# 특징을 미묘하게 바꿔서\n",
    "# 이미지 데이터의 수를 확장할 때 효과적으로 사용할 수 있다\n",
    "train_datagen = ImageDataGenerator(rescale=1./255,          # 주어진 이미지의 크기를 설정합니다.\n",
    "                                  horizontal_flip=True,     # 수평 대칭 이미지를 50% 확률로 만들어 추가합니다.\n",
    "                                  width_shift_range=0.1,    # 전체 크기의 15% 범위에서 좌우로 이동합니다.\n",
    "                                  height_shift_range=0.1,   # 마찬가지로 위, 아래로 이동합니다.\n",
    "                                  #rotation_range=5,        # 정해진 각도만큼 회전시킵니다.\n",
    "                                  #shear_range=0.7,         # 좌표 하나를 고정시키고 나머지를 이동시킵니다.\n",
    "                                  #zoom_range=1.2,          # 확대 또는 축소시킵니다.\n",
    "                                  #vertical_flip=True,      # 수직 대칭 이미지를 만듭니다.\n",
    "                                  #fill_mode='nearest'      # 빈 공간을 채우는 방법입니다. nearest 옵션은 가장 비슷한 색으로 채우게 됩니다.\n",
    "                                  )   "
   ]
  },
  {
   "cell_type": "code",
   "execution_count": 4,
   "id": "1c265bef",
   "metadata": {},
   "outputs": [
    {
     "name": "stdout",
     "output_type": "stream",
     "text": [
      "Found 160 images belonging to 2 classes.\n"
     ]
    }
   ],
   "source": [
    "train_generator = train_datagen.flow_from_directory(\n",
    "       './data/train',   # 학습셋이 있는 폴더의 위치입니다.\n",
    "       target_size=(150, 150),\n",
    "       batch_size=BATCH_SIZE,\n",
    "       class_mode='binary') # 이진분류 (정상0 / 치매1)"
   ]
  },
  {
   "cell_type": "code",
   "execution_count": 5,
   "id": "bc15e69a",
   "metadata": {},
   "outputs": [
    {
     "name": "stdout",
     "output_type": "stream",
     "text": [
      "Found 120 images belonging to 2 classes.\n"
     ]
    }
   ],
   "source": [
    "# 테스트셋 이미지 생성 옵션 부여 및 생성\n",
    "test_datagen = ImageDataGenerator(rescale=1./255)  \n",
    "\n",
    "test_generator = test_datagen.flow_from_directory(\n",
    "       './data/test',   # 테스트셋이 있는 폴더의 위치입니다.\n",
    "       target_size=(150, 150),\n",
    "       batch_size=BATCH_SIZE,\n",
    "       class_mode='binary')"
   ]
  },
  {
   "cell_type": "code",
   "execution_count": 6,
   "id": "9a41d457",
   "metadata": {},
   "outputs": [
    {
     "name": "stdout",
     "output_type": "stream",
     "text": [
      "Model: \"sequential\"\n",
      "_________________________________________________________________\n",
      " Layer (type)                Output Shape              Param #   \n",
      "=================================================================\n",
      " conv2d (Conv2D)             (None, 148, 148, 32)      896       \n",
      "                                                                 \n",
      " activation (Activation)     (None, 148, 148, 32)      0         \n",
      "                                                                 \n",
      " max_pooling2d (MaxPooling2D  (None, 74, 74, 32)       0         \n",
      " )                                                               \n",
      "                                                                 \n",
      " conv2d_1 (Conv2D)           (None, 72, 72, 32)        9248      \n",
      "                                                                 \n",
      " activation_1 (Activation)   (None, 72, 72, 32)        0         \n",
      "                                                                 \n",
      " max_pooling2d_1 (MaxPooling  (None, 36, 36, 32)       0         \n",
      " 2D)                                                             \n",
      "                                                                 \n",
      " conv2d_2 (Conv2D)           (None, 34, 34, 64)        18496     \n",
      "                                                                 \n",
      " activation_2 (Activation)   (None, 34, 34, 64)        0         \n",
      "                                                                 \n",
      " max_pooling2d_2 (MaxPooling  (None, 17, 17, 64)       0         \n",
      " 2D)                                                             \n",
      "                                                                 \n",
      " flatten (Flatten)           (None, 18496)             0         \n",
      "                                                                 \n",
      " dense (Dense)               (None, 64)                1183808   \n",
      "                                                                 \n",
      " activation_3 (Activation)   (None, 64)                0         \n",
      "                                                                 \n",
      " dropout (Dropout)           (None, 64)                0         \n",
      "                                                                 \n",
      " dense_1 (Dense)             (None, 1)                 65        \n",
      "                                                                 \n",
      " activation_4 (Activation)   (None, 1)                 0         \n",
      "                                                                 \n",
      "=================================================================\n",
      "Total params: 1,212,513\n",
      "Trainable params: 1,212,513\n",
      "Non-trainable params: 0\n",
      "_________________________________________________________________\n"
     ]
    }
   ],
   "source": [
    "# CNN 모델을 만들어 적용\n",
    "model = models.Sequential()\n",
    "model.add(layers.Conv2D(32, (3, 3), input_shape=(150, 150, 3)))\n",
    "model.add(layers.Activation('relu'))\n",
    "model.add(layers.MaxPooling2D(pool_size=(2, 2)))\n",
    "\n",
    "model.add(layers.Conv2D(32, (3, 3)))\n",
    "model.add(layers.Activation('relu'))\n",
    "model.add(layers.MaxPooling2D(pool_size=(2, 2)))\n",
    "\n",
    "model.add(layers.Conv2D(64, (3, 3)))\n",
    "model.add(layers.Activation('relu'))\n",
    "model.add(layers.MaxPooling2D(pool_size=(2, 2)))\n",
    "\n",
    "model.add(layers.Flatten())\n",
    "model.add(layers.Dense(64))\n",
    "model.add(layers.Activation('relu'))\n",
    "model.add(layers.Dropout(0.5))\n",
    "model.add(layers.Dense(1))\n",
    "model.add(layers.Activation('sigmoid'))\n",
    "model.summary()"
   ]
  },
  {
   "cell_type": "code",
   "execution_count": 7,
   "id": "1eaf1000",
   "metadata": {},
   "outputs": [],
   "source": [
    "model.compile(loss='binary_crossentropy', \n",
    "              optimizer=optimizers.Adam(learning_rate=0.0002),\n",
    "              metrics=['accuracy'])"
   ]
  },
  {
   "cell_type": "code",
   "execution_count": 8,
   "id": "563bd30d",
   "metadata": {},
   "outputs": [],
   "source": [
    "early_stopping = EarlyStopping(monitor='val_loss', patience=5)"
   ]
  },
  {
   "cell_type": "code",
   "execution_count": 9,
   "id": "c6007923",
   "metadata": {},
   "outputs": [
    {
     "name": "stdout",
     "output_type": "stream",
     "text": [
      "Epoch 1/100\n",
      "32/32 [==============================] - 9s 242ms/step - loss: 0.7001 - accuracy: 0.4875 - val_loss: 0.6892 - val_accuracy: 0.5000\n",
      "Epoch 2/100\n",
      "32/32 [==============================] - 6s 191ms/step - loss: 0.6896 - accuracy: 0.5312 - val_loss: 0.6843 - val_accuracy: 0.5000\n",
      "Epoch 3/100\n",
      "32/32 [==============================] - 7s 217ms/step - loss: 0.6784 - accuracy: 0.5875 - val_loss: 0.6758 - val_accuracy: 0.5000\n",
      "Epoch 4/100\n",
      "32/32 [==============================] - 6s 191ms/step - loss: 0.6710 - accuracy: 0.5625 - val_loss: 0.6663 - val_accuracy: 0.5083\n",
      "Epoch 5/100\n",
      "32/32 [==============================] - 4s 136ms/step - loss: 0.6682 - accuracy: 0.5500 - val_loss: 0.6648 - val_accuracy: 0.5000\n",
      "Epoch 6/100\n",
      "32/32 [==============================] - 5s 152ms/step - loss: 0.6477 - accuracy: 0.5562 - val_loss: 0.6043 - val_accuracy: 0.8250\n",
      "Epoch 7/100\n",
      "32/32 [==============================] - 6s 187ms/step - loss: 0.6236 - accuracy: 0.6687 - val_loss: 0.5838 - val_accuracy: 0.7667\n",
      "Epoch 8/100\n",
      "32/32 [==============================] - 6s 190ms/step - loss: 0.5809 - accuracy: 0.7250 - val_loss: 0.4907 - val_accuracy: 0.7750\n",
      "Epoch 9/100\n",
      "32/32 [==============================] - 6s 197ms/step - loss: 0.5484 - accuracy: 0.7250 - val_loss: 0.5082 - val_accuracy: 0.7750\n",
      "Epoch 10/100\n",
      "32/32 [==============================] - 7s 204ms/step - loss: 0.5013 - accuracy: 0.7937 - val_loss: 0.3629 - val_accuracy: 0.9000\n",
      "Epoch 11/100\n",
      "32/32 [==============================] - 7s 210ms/step - loss: 0.4624 - accuracy: 0.8188 - val_loss: 0.3399 - val_accuracy: 0.8917\n",
      "Epoch 12/100\n",
      "32/32 [==============================] - 6s 203ms/step - loss: 0.4420 - accuracy: 0.8188 - val_loss: 0.3476 - val_accuracy: 0.9167\n",
      "Epoch 13/100\n",
      "32/32 [==============================] - 7s 213ms/step - loss: 0.3464 - accuracy: 0.8938 - val_loss: 0.3559 - val_accuracy: 0.8250\n",
      "Epoch 14/100\n",
      "32/32 [==============================] - 6s 197ms/step - loss: 0.3300 - accuracy: 0.8562 - val_loss: 0.2474 - val_accuracy: 0.9250\n",
      "Epoch 15/100\n",
      "32/32 [==============================] - 6s 183ms/step - loss: 0.2796 - accuracy: 0.8813 - val_loss: 0.2690 - val_accuracy: 0.8833\n",
      "Epoch 16/100\n",
      "32/32 [==============================] - 6s 191ms/step - loss: 0.2441 - accuracy: 0.9000 - val_loss: 0.1515 - val_accuracy: 0.9667\n",
      "Epoch 17/100\n",
      "32/32 [==============================] - 6s 192ms/step - loss: 0.2572 - accuracy: 0.9187 - val_loss: 0.1551 - val_accuracy: 0.9417\n",
      "Epoch 18/100\n",
      "32/32 [==============================] - 7s 206ms/step - loss: 0.1738 - accuracy: 0.9625 - val_loss: 0.1182 - val_accuracy: 0.9583\n",
      "Epoch 19/100\n",
      "32/32 [==============================] - 4s 118ms/step - loss: 0.1795 - accuracy: 0.9625 - val_loss: 0.1108 - val_accuracy: 0.9750\n",
      "Epoch 20/100\n",
      "32/32 [==============================] - 6s 196ms/step - loss: 0.1905 - accuracy: 0.9563 - val_loss: 0.1003 - val_accuracy: 0.9833\n",
      "Epoch 21/100\n",
      "32/32 [==============================] - 6s 200ms/step - loss: 0.1826 - accuracy: 0.9500 - val_loss: 0.1443 - val_accuracy: 0.9333\n",
      "Epoch 22/100\n",
      "32/32 [==============================] - 7s 204ms/step - loss: 0.1782 - accuracy: 0.9312 - val_loss: 0.1408 - val_accuracy: 0.9417\n",
      "Epoch 23/100\n",
      "32/32 [==============================] - 6s 202ms/step - loss: 0.1253 - accuracy: 0.9688 - val_loss: 0.0811 - val_accuracy: 0.9667\n",
      "Epoch 24/100\n",
      "32/32 [==============================] - 6s 187ms/step - loss: 0.1047 - accuracy: 0.9688 - val_loss: 0.0824 - val_accuracy: 0.9500\n",
      "Epoch 25/100\n",
      "32/32 [==============================] - 6s 196ms/step - loss: 0.1035 - accuracy: 0.9625 - val_loss: 0.0709 - val_accuracy: 0.9583\n",
      "Epoch 26/100\n",
      "32/32 [==============================] - 6s 181ms/step - loss: 0.1149 - accuracy: 0.9625 - val_loss: 0.0768 - val_accuracy: 0.9750\n",
      "Epoch 27/100\n",
      "32/32 [==============================] - 6s 200ms/step - loss: 0.1395 - accuracy: 0.9438 - val_loss: 0.0817 - val_accuracy: 0.9667\n",
      "Epoch 28/100\n",
      "32/32 [==============================] - 6s 191ms/step - loss: 0.1252 - accuracy: 0.9688 - val_loss: 0.0758 - val_accuracy: 0.9833\n",
      "Epoch 29/100\n",
      "32/32 [==============================] - 6s 201ms/step - loss: 0.1163 - accuracy: 0.9563 - val_loss: 0.0677 - val_accuracy: 0.9833\n",
      "Epoch 30/100\n",
      "32/32 [==============================] - 6s 171ms/step - loss: 0.1012 - accuracy: 0.9563 - val_loss: 0.0716 - val_accuracy: 0.9833\n",
      "Epoch 31/100\n",
      "32/32 [==============================] - 6s 175ms/step - loss: 0.1149 - accuracy: 0.9688 - val_loss: 0.0527 - val_accuracy: 0.9833\n",
      "Epoch 32/100\n",
      "32/32 [==============================] - 4s 107ms/step - loss: 0.1192 - accuracy: 0.9500 - val_loss: 0.0836 - val_accuracy: 0.9833\n",
      "Epoch 33/100\n",
      "32/32 [==============================] - 5s 173ms/step - loss: 0.0981 - accuracy: 0.9438 - val_loss: 0.0644 - val_accuracy: 0.9833\n",
      "Epoch 34/100\n",
      "32/32 [==============================] - 6s 193ms/step - loss: 0.0873 - accuracy: 0.9688 - val_loss: 0.0817 - val_accuracy: 0.9750\n",
      "Epoch 35/100\n",
      "32/32 [==============================] - 7s 204ms/step - loss: 0.0719 - accuracy: 0.9812 - val_loss: 0.0634 - val_accuracy: 0.9833\n",
      "Epoch 36/100\n",
      "32/32 [==============================] - 6s 178ms/step - loss: 0.0913 - accuracy: 0.9625 - val_loss: 0.0525 - val_accuracy: 0.9833\n",
      "Epoch 37/100\n",
      "32/32 [==============================] - 7s 232ms/step - loss: 0.0444 - accuracy: 0.9875 - val_loss: 0.0481 - val_accuracy: 0.9833\n",
      "Epoch 38/100\n",
      "32/32 [==============================] - 6s 195ms/step - loss: 0.1334 - accuracy: 0.9563 - val_loss: 0.1035 - val_accuracy: 0.9583\n",
      "Epoch 39/100\n",
      "32/32 [==============================] - 6s 204ms/step - loss: 0.0739 - accuracy: 0.9750 - val_loss: 0.0857 - val_accuracy: 0.9667\n",
      "Epoch 40/100\n",
      "32/32 [==============================] - 6s 191ms/step - loss: 0.1677 - accuracy: 0.9062 - val_loss: 0.1109 - val_accuracy: 0.9500\n",
      "Epoch 41/100\n",
      "32/32 [==============================] - 6s 199ms/step - loss: 0.1294 - accuracy: 0.9500 - val_loss: 0.0800 - val_accuracy: 0.9750\n",
      "Epoch 42/100\n",
      "32/32 [==============================] - 6s 194ms/step - loss: 0.1045 - accuracy: 0.9750 - val_loss: 0.0815 - val_accuracy: 0.9583\n"
     ]
    }
   ],
   "source": [
    "history = model.fit(\n",
    "    train_generator, epochs=100,\n",
    "    validation_data=test_generator,\n",
    "    callbacks=[early_stopping]\n",
    ")"
   ]
  },
  {
   "cell_type": "code",
   "execution_count": 10,
   "id": "0b046d1c",
   "metadata": {},
   "outputs": [
    {
     "data": {
      "image/png": "[encoded data removed]",
      "text/plain": [
       "<Figure size 640x480 with 1 Axes>"
      ]
     },
     "metadata": {},
     "output_type": "display_data"
    }
   ],
   "source": [
    "y_vloss = history.history['val_loss']\n",
    "y_loss = history.history['loss']\n",
    "\n",
    "# 그래프로 표현해 봅니다.\n",
    "x_len = np.arange(len(y_loss))\n",
    "plt.plot(x_len, y_vloss, marker='.', c=\"red\", label='Testset_loss')\n",
    "plt.plot(x_len, y_loss, marker='.', c=\"blue\", label='Trainset_loss')\n",
    "\n",
    "# 그래프에 그리드를 주고 레이블을 표시하겠습니다.\n",
    "plt.legend(loc='upper right')\n",
    "plt.grid()\n",
    "plt.xlabel('epoch')\n",
    "plt.ylabel('loss')\n",
    "plt.show()"
   ]
  },
  {
   "cell_type": "code",
   "execution_count": null,
   "id": "82a43710",
   "metadata": {},
   "outputs": [],
   "source": []
  }
 ],
 "metadata": {
  "kernelspec": {
   "display_name": "Python 3 (ipykernel)",
   "language": "python",
   "name": "python3"
  },
  "language_info": {
   "codemirror_mode": {
    "name": "ipython",
    "version": 3
   },
   "file_extension": ".py",
   "mimetype": "text/x-python",
   "name": "python",
   "nbconvert_exporter": "python",
   "pygments_lexer": "ipython3",
   "version": "3.8.15"
  }
 },
 "nbformat": 4,
 "nbformat_minor": 5
}
