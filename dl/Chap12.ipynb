{
 "cells": [
  {
   "cell_type": "markdown",
   "id": "4a258284",
   "metadata": {},
   "source": [
    "## 모두의 딥러닝 개정3판\n",
    "### 12장 다중 분류 문제 해결하기\n",
    "\n",
    "샘플 수: 150\n",
    "\n",
    "- 속성 수: 4\n",
    "\n",
    "- 정보 1: 꽃받침 길이(sepal length, 단위: cm)\n",
    "\n",
    "- 정보 2: 꽃받침 너비(sepal width, 단위: cm)\n",
    "\n",
    "- 정보 3: 꽃잎 길이(petal length, 단위: cm)\n",
    "\n",
    "- 정보 4: 꽃잎 너비(petal width, 단위: cm)\n",
    "\n",
    "- 클래스: Iris-setosa, Iris-versicolor, Iris-virginica\n",
    "\n",
    "속성을 보니 우리가 앞서 다루었던 것과 중요한 차이가 있습니다. 바로 클래스가 두 개가 아니라 세 개입니다. 즉, 참(1)과 거짓(0)으로 해결하는 것이 아니라, 여러 개 중에 어떤 것이 답인지 예측하는 문제입니다.\n",
    "\n",
    "이렇게 여러 개의 답 중 하나를 고르는 분류 문제를 다중 분류(multi classification)라고 합니다. 다중 분류 문제는 둘 중에 하나를 고르는 이항 분류(binary classification)와는 접근 방식이 조금 다릅니다."
   ]
  },
  {
   "cell_type": "code",
   "execution_count": 1,
   "id": "89ccd44e",
   "metadata": {},
   "outputs": [],
   "source": [
    "import pandas as pd"
   ]
  },
  {
   "cell_type": "code",
   "execution_count": 2,
   "id": "769fcb2a",
   "metadata": {},
   "outputs": [
    {
     "data": {
      "text/plain": [
       "<bound method NDFrame.head of      sepal_length  sepal_width  petal_length  petal_width         species\n",
       "0             5.1          3.5           1.4          0.2     Iris-setosa\n",
       "1             4.9          3.0           1.4          0.2     Iris-setosa\n",
       "2             4.7          3.2           1.3          0.2     Iris-setosa\n",
       "3             4.6          3.1           1.5          0.2     Iris-setosa\n",
       "4             5.0          3.6           1.4          0.2     Iris-setosa\n",
       "..            ...          ...           ...          ...             ...\n",
       "145           6.7          3.0           5.2          2.3  Iris-virginica\n",
       "146           6.3          2.5           5.0          1.9  Iris-virginica\n",
       "147           6.5          3.0           5.2          2.0  Iris-virginica\n",
       "148           6.2          3.4           5.4          2.3  Iris-virginica\n",
       "149           5.9          3.0           5.1          1.8  Iris-virginica\n",
       "\n",
       "[150 rows x 5 columns]>"
      ]
     },
     "execution_count": 2,
     "metadata": {},
     "output_type": "execute_result"
    }
   ],
   "source": [
    "df = pd.read_csv('data/iris3.csv')\n",
    "df.head"
   ]
  },
  {
   "cell_type": "code",
   "execution_count": 5,
   "id": "1734570a",
   "metadata": {},
   "outputs": [],
   "source": [
    "X = df.iloc[:, :4]\n",
    "y = df.iloc[:, 4]"
   ]
  },
  {
   "cell_type": "code",
   "execution_count": 6,
   "id": "8840a965",
   "metadata": {},
   "outputs": [
    {
     "name": "stdout",
     "output_type": "stream",
     "text": [
      "   sepal_length  sepal_width  petal_length  petal_width\n",
      "0           5.1          3.5           1.4          0.2\n",
      "1           4.9          3.0           1.4          0.2\n",
      "2           4.7          3.2           1.3          0.2\n",
      "3           4.6          3.1           1.5          0.2\n",
      "4           5.0          3.6           1.4          0.2\n"
     ]
    }
   ],
   "source": [
    "print(X[:5])"
   ]
  },
  {
   "cell_type": "code",
   "execution_count": 7,
   "id": "2ab31ff5",
   "metadata": {},
   "outputs": [
    {
     "name": "stdout",
     "output_type": "stream",
     "text": [
      "0    Iris-setosa\n",
      "1    Iris-setosa\n",
      "2    Iris-setosa\n",
      "3    Iris-setosa\n",
      "4    Iris-setosa\n",
      "Name: species, dtype: object\n"
     ]
    }
   ],
   "source": [
    "print(y[:5])"
   ]
  },
  {
   "cell_type": "code",
   "execution_count": 8,
   "id": "dec5708a",
   "metadata": {},
   "outputs": [
    {
     "name": "stdout",
     "output_type": "stream",
     "text": [
      "140    Iris-virginica\n",
      "141    Iris-virginica\n",
      "142    Iris-virginica\n",
      "143    Iris-virginica\n",
      "144    Iris-virginica\n",
      "145    Iris-virginica\n",
      "146    Iris-virginica\n",
      "147    Iris-virginica\n",
      "148    Iris-virginica\n",
      "149    Iris-virginica\n",
      "Name: species, dtype: object\n"
     ]
    }
   ],
   "source": [
    "print(y[-10:]) # 뒤에서부터 10개"
   ]
  },
  {
   "cell_type": "code",
   "execution_count": 9,
   "id": "4ea694ed",
   "metadata": {},
   "outputs": [
    {
     "name": "stdout",
     "output_type": "stream",
     "text": [
      "<class 'pandas.core.frame.DataFrame'>\n",
      "RangeIndex: 150 entries, 0 to 149\n",
      "Data columns (total 5 columns):\n",
      " #   Column        Non-Null Count  Dtype  \n",
      "---  ------        --------------  -----  \n",
      " 0   sepal_length  150 non-null    float64\n",
      " 1   sepal_width   150 non-null    float64\n",
      " 2   petal_length  150 non-null    float64\n",
      " 3   petal_width   150 non-null    float64\n",
      " 4   species       150 non-null    object \n",
      "dtypes: float64(4), object(1)\n",
      "memory usage: 6.0+ KB\n"
     ]
    }
   ],
   "source": [
    "df.info()"
   ]
  },
  {
   "cell_type": "code",
   "execution_count": 10,
   "id": "e988a5dc",
   "metadata": {},
   "outputs": [
    {
     "name": "stdout",
     "output_type": "stream",
     "text": [
      "   Iris-setosa  Iris-versicolor  Iris-virginica\n",
      "0            1                0               0\n",
      "1            1                0               0\n",
      "2            1                0               0\n",
      "3            1                0               0\n",
      "4            1                0               0\n",
      "5            1                0               0\n",
      "6            1                0               0\n",
      "7            1                0               0\n",
      "8            1                0               0\n",
      "9            1                0               0\n"
     ]
    }
   ],
   "source": [
    "y = pd.get_dummies(y)\n",
    "print(y[:10])"
   ]
  },
  {
   "cell_type": "code",
   "execution_count": 11,
   "id": "9f3bb230",
   "metadata": {},
   "outputs": [],
   "source": [
    "from tensorflow.keras import models, layers"
   ]
  },
  {
   "cell_type": "code",
   "execution_count": 12,
   "id": "8e6e2ad4",
   "metadata": {},
   "outputs": [],
   "source": [
    "model = models.Sequential()\n",
    "model.add(layers.Dense(12, input_dim=4, activation='relu'))\n",
    "model.add(layers.Dense(8, activation='relu'))\n",
    "model.add(layers.Dense(3, activation='softmax')) # 3차원이니까 3"
   ]
  },
  {
   "cell_type": "markdown",
   "id": "14d38865",
   "metadata": {},
   "source": [
    "입력층 weight 4 12\n",
    "입력층 bias 1 12\n",
    "\n",
    "은닉층 weight 12 8\n",
    "은닉층 bias 1 8\n",
    "\n",
    "출력층 weight 8 3\n",
    "출력층 bias 1 3 param 191 (60+104+27)"
   ]
  },
  {
   "cell_type": "code",
   "execution_count": 13,
   "id": "9c65d1f1",
   "metadata": {},
   "outputs": [
    {
     "name": "stdout",
     "output_type": "stream",
     "text": [
      "Model: \"sequential\"\n",
      "_________________________________________________________________\n",
      " Layer (type)                Output Shape              Param #   \n",
      "=================================================================\n",
      " dense (Dense)               (None, 12)                60        \n",
      "                                                                 \n",
      " dense_1 (Dense)             (None, 8)                 104       \n",
      "                                                                 \n",
      " dense_2 (Dense)             (None, 3)                 27        \n",
      "                                                                 \n",
      "=================================================================\n",
      "Total params: 191\n",
      "Trainable params: 191\n",
      "Non-trainable params: 0\n",
      "_________________________________________________________________\n"
     ]
    }
   ],
   "source": [
    "model.summary()"
   ]
  },
  {
   "cell_type": "code",
   "execution_count": 14,
   "id": "8066c76b",
   "metadata": {},
   "outputs": [],
   "source": [
    "# 다중분류를 위한 손실함수\n",
    "model.compile(loss='categorical_crossentropy', optimizer='adam', metrics=['accuracy'])"
   ]
  },
  {
   "cell_type": "code",
   "execution_count": 15,
   "id": "82dd5e4d",
   "metadata": {},
   "outputs": [
    {
     "name": "stdout",
     "output_type": "stream",
     "text": [
      "Epoch 1/30\n",
      "30/30 [==============================] - 1s 1ms/step - loss: 1.1270 - accuracy: 0.3333\n",
      "Epoch 2/30\n",
      "30/30 [==============================] - 0s 1ms/step - loss: 0.9423 - accuracy: 0.4667\n",
      "Epoch 3/30\n",
      "30/30 [==============================] - 0s 1ms/step - loss: 0.8581 - accuracy: 0.6400\n",
      "Epoch 4/30\n",
      "30/30 [==============================] - 0s 1ms/step - loss: 0.7963 - accuracy: 0.8467\n",
      "Epoch 5/30\n",
      "30/30 [==============================] - 0s 1ms/step - loss: 0.7478 - accuracy: 0.9333\n",
      "Epoch 6/30\n",
      "30/30 [==============================] - 0s 1ms/step - loss: 0.6999 - accuracy: 0.8400\n",
      "Epoch 7/30\n",
      "30/30 [==============================] - 0s 1ms/step - loss: 0.6535 - accuracy: 0.8667\n",
      "Epoch 8/30\n",
      "30/30 [==============================] - 0s 1ms/step - loss: 0.6113 - accuracy: 0.8467\n",
      "Epoch 9/30\n",
      "30/30 [==============================] - 0s 1ms/step - loss: 0.5733 - accuracy: 0.9333\n",
      "Epoch 10/30\n",
      "30/30 [==============================] - 0s 1ms/step - loss: 0.5391 - accuracy: 0.9067\n",
      "Epoch 11/30\n",
      "30/30 [==============================] - 0s 1ms/step - loss: 0.5102 - accuracy: 0.8933\n",
      "Epoch 12/30\n",
      "30/30 [==============================] - 0s 1ms/step - loss: 0.4802 - accuracy: 0.9133\n",
      "Epoch 13/30\n",
      "30/30 [==============================] - 0s 1ms/step - loss: 0.4433 - accuracy: 0.9200\n",
      "Epoch 14/30\n",
      "30/30 [==============================] - 0s 1ms/step - loss: 0.4069 - accuracy: 0.9533\n",
      "Epoch 15/30\n",
      "30/30 [==============================] - 0s 1ms/step - loss: 0.3831 - accuracy: 0.9533\n",
      "Epoch 16/30\n",
      "30/30 [==============================] - 0s 1ms/step - loss: 0.3588 - accuracy: 0.9600\n",
      "Epoch 17/30\n",
      "30/30 [==============================] - 0s 1ms/step - loss: 0.3380 - accuracy: 0.9533\n",
      "Epoch 18/30\n",
      "30/30 [==============================] - 0s 1ms/step - loss: 0.3210 - accuracy: 0.9600\n",
      "Epoch 19/30\n",
      "30/30 [==============================] - 0s 1ms/step - loss: 0.3085 - accuracy: 0.9400\n",
      "Epoch 20/30\n",
      "30/30 [==============================] - 0s 1ms/step - loss: 0.2882 - accuracy: 0.9600\n",
      "Epoch 21/30\n",
      "30/30 [==============================] - 0s 1ms/step - loss: 0.2760 - accuracy: 0.9600\n",
      "Epoch 22/30\n",
      "30/30 [==============================] - 0s 1ms/step - loss: 0.2597 - accuracy: 0.9733\n",
      "Epoch 23/30\n",
      "30/30 [==============================] - 0s 1ms/step - loss: 0.2471 - accuracy: 0.9800\n",
      "Epoch 24/30\n",
      "30/30 [==============================] - 0s 1ms/step - loss: 0.2382 - accuracy: 0.9800\n",
      "Epoch 25/30\n",
      "30/30 [==============================] - 0s 1ms/step - loss: 0.2269 - accuracy: 0.9733\n",
      "Epoch 26/30\n",
      "30/30 [==============================] - 0s 1ms/step - loss: 0.2157 - accuracy: 0.9667\n",
      "Epoch 27/30\n",
      "30/30 [==============================] - 0s 1ms/step - loss: 0.2073 - accuracy: 0.9733\n",
      "Epoch 28/30\n",
      "30/30 [==============================] - 0s 1ms/step - loss: 0.2018 - accuracy: 0.9600\n",
      "Epoch 29/30\n",
      "30/30 [==============================] - 0s 1ms/step - loss: 0.1987 - accuracy: 0.9667\n",
      "Epoch 30/30\n",
      "30/30 [==============================] - 0s 1ms/step - loss: 0.1850 - accuracy: 0.9733\n"
     ]
    }
   ],
   "source": [
    "history = model.fit(X, y, epochs=30, batch_size=5)\n",
    "# df.info() 결과상 RangeIndex: 150 \n",
    "# 한 epoch당 30번 파라미터 갱신"
   ]
  },
  {
   "cell_type": "code",
   "execution_count": null,
   "id": "51033c5e",
   "metadata": {},
   "outputs": [],
   "source": []
  }
 ],
 "metadata": {
  "kernelspec": {
   "display_name": "Python 3 (ipykernel)",
   "language": "python",
   "name": "python3"
  },
  "language_info": {
   "codemirror_mode": {
    "name": "ipython",
    "version": 3
   },
   "file_extension": ".py",
   "mimetype": "text/x-python",
   "name": "python",
   "nbconvert_exporter": "python",
   "pygments_lexer": "ipython3",
   "version": "3.8.15"
  }
 },
 "nbformat": 4,
 "nbformat_minor": 5
}
