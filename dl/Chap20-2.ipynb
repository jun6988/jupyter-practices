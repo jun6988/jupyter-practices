{
 "cells": [
  {
   "cell_type": "markdown",
   "id": "308980ec",
   "metadata": {},
   "source": [
    "# 모두의 딥러닝 개정 3판\n",
    "## 20장 전이 학습을 통해 딥러닝의 성능 극대화하기\n",
    "- 미세 조정(fine tuning): 대규모 데이터셋에서 학습된 기존의 네트워크를 불러온 뒤 CNN 모델의 앞쪽을 이 네트워크로 채우기\n",
    "- 뒤쪽 레이어와 내 프로젝트 연결(이때 잘 맞물리도록 미세조정 발생)"
   ]
  },
  {
   "cell_type": "code",
   "execution_count": 1,
   "id": "cd9aada0",
   "metadata": {},
   "outputs": [],
   "source": [
    "from tensorflow.keras import models, layers, optimizers\n",
    "from tensorflow.keras.preprocessing.image import ImageDataGenerator\n",
    "from tensorflow.keras.callbacks import EarlyStopping\n",
    "import numpy as np\n",
    "import matplotlib.pyplot as plt\n",
    "import os\n",
    "\n",
    "os.environ['KMP_DUPLICATE_LIB_OK']=\"TRUE\""
   ]
  },
  {
   "cell_type": "code",
   "execution_count": 2,
   "id": "f71f333e",
   "metadata": {},
   "outputs": [],
   "source": [
    "# 이미지넷(ImageNet) 데이터셋에서 추출한 사진들을 활용\n",
    "# 120만 개가 넘는 이미지\n",
    "from tensorflow.keras.applications import VGG16"
   ]
  },
  {
   "cell_type": "code",
   "execution_count": 3,
   "id": "d3cdbda2",
   "metadata": {},
   "outputs": [],
   "source": [
    "BATCH_SIZE = 5"
   ]
  },
  {
   "cell_type": "code",
   "execution_count": 4,
   "id": "2878f380",
   "metadata": {},
   "outputs": [],
   "source": [
    "# 학습셋의 변형 설정하기\n",
    "# 데이터 특성에 맞게 항목을 골라써야함\n",
    "train_datagen = ImageDataGenerator(rescale=1./255,          # 주어진 이미지의 크기를 설정합니다.\n",
    "                                  horizontal_flip=True,     # 수평 대칭 이미지를 50% 확률로 만들어 추가합니다.\n",
    "                                  width_shift_range=0.1,    # 전체 크기의 15% 범위에서 좌우로 이동합니다.\n",
    "                                  height_shift_range=0.1,   # 마찬가지로 위, 아래로 이동합니다.\n",
    "                                  #rotation_range=5,        # 정해진 각도만큼 회전시킵니다.\n",
    "                                  #shear_range=0.7,         # 좌표 하나를 고정시키고 나머지를 이동시킵니다.\n",
    "                                  #zoom_range=1.2,          # 확대 또는 축소시킵니다.\n",
    "                                  #vertical_flip=True,      # 수직 대칭 이미지를 만듭니다.\n",
    "                                  #fill_mode='nearest'      # 빈 공간을 채우는 방법입니다. nearest 옵션은 가장 비슷한 색으로 채우게 됩니다.\n",
    "                                  )   "
   ]
  },
  {
   "cell_type": "code",
   "execution_count": 5,
   "id": "2f85ed09",
   "metadata": {},
   "outputs": [
    {
     "name": "stdout",
     "output_type": "stream",
     "text": [
      "Found 160 images belonging to 2 classes.\n"
     ]
    }
   ],
   "source": [
    "train_generator = train_datagen.flow_from_directory(\n",
    "       './data/train',   # 학습셋이 있는 폴더의 위치입니다.\n",
    "       target_size=(150, 150), # 이미지크기\n",
    "       batch_size=BATCH_SIZE,\n",
    "       class_mode='binary') # 이진분류 (정상0/치매1)"
   ]
  },
  {
   "cell_type": "code",
   "execution_count": 6,
   "id": "1a481257",
   "metadata": {},
   "outputs": [
    {
     "name": "stdout",
     "output_type": "stream",
     "text": [
      "Found 120 images belonging to 2 classes.\n"
     ]
    }
   ],
   "source": [
    "# 테스트셋 정규화\n",
    "test_datagen = ImageDataGenerator(rescale=1./255)  \n",
    "\n",
    "test_generator = test_datagen.flow_from_directory(\n",
    "       './data/test',   # 테스트셋이 있는 폴더의 위치입니다.\n",
    "       target_size=(150, 150),\n",
    "       batch_size=BATCH_SIZE,\n",
    "       class_mode='binary')"
   ]
  },
  {
   "cell_type": "code",
   "execution_count": 7,
   "id": "0dd89e51",
   "metadata": {},
   "outputs": [
    {
     "name": "stdout",
     "output_type": "stream",
     "text": [
      "Model: \"vgg16\"\n",
      "_________________________________________________________________\n",
      " Layer (type)                Output Shape              Param #   \n",
      "=================================================================\n",
      " input_1 (InputLayer)        [(None, 150, 150, 3)]     0         \n",
      "                                                                 \n",
      " block1_conv1 (Conv2D)       (None, 150, 150, 64)      1792      \n",
      "                                                                 \n",
      " block1_conv2 (Conv2D)       (None, 150, 150, 64)      36928     \n",
      "                                                                 \n",
      " block1_pool (MaxPooling2D)  (None, 75, 75, 64)        0         \n",
      "                                                                 \n",
      " block2_conv1 (Conv2D)       (None, 75, 75, 128)       73856     \n",
      "                                                                 \n",
      " block2_conv2 (Conv2D)       (None, 75, 75, 128)       147584    \n",
      "                                                                 \n",
      " block2_pool (MaxPooling2D)  (None, 37, 37, 128)       0         \n",
      "                                                                 \n",
      " block3_conv1 (Conv2D)       (None, 37, 37, 256)       295168    \n",
      "                                                                 \n",
      " block3_conv2 (Conv2D)       (None, 37, 37, 256)       590080    \n",
      "                                                                 \n",
      " block3_conv3 (Conv2D)       (None, 37, 37, 256)       590080    \n",
      "                                                                 \n",
      " block3_pool (MaxPooling2D)  (None, 18, 18, 256)       0         \n",
      "                                                                 \n",
      " block4_conv1 (Conv2D)       (None, 18, 18, 512)       1180160   \n",
      "                                                                 \n",
      " block4_conv2 (Conv2D)       (None, 18, 18, 512)       2359808   \n",
      "                                                                 \n",
      " block4_conv3 (Conv2D)       (None, 18, 18, 512)       2359808   \n",
      "                                                                 \n",
      " block4_pool (MaxPooling2D)  (None, 9, 9, 512)         0         \n",
      "                                                                 \n",
      " block5_conv1 (Conv2D)       (None, 9, 9, 512)         2359808   \n",
      "                                                                 \n",
      " block5_conv2 (Conv2D)       (None, 9, 9, 512)         2359808   \n",
      "                                                                 \n",
      " block5_conv3 (Conv2D)       (None, 9, 9, 512)         2359808   \n",
      "                                                                 \n",
      " block5_pool (MaxPooling2D)  (None, 4, 4, 512)         0         \n",
      "                                                                 \n",
      "=================================================================\n",
      "Total params: 14,714,688\n",
      "Trainable params: 0\n",
      "Non-trainable params: 14,714,688\n",
      "_________________________________________________________________\n"
     ]
    }
   ],
   "source": [
    "# VGG16 모델 불러오기\n",
    "# include_top=False : fine-tuning한 내 레이어(로컬 네트워크)를 연결하기 위해\n",
    "# include_top=False란\n",
    "# VGG16의 마지막 층, 즉 분류를 담당하는 곳을 불러올지 말지를 정하는 옵션\n",
    "# 우리가 만든 로컬 네트워크를 연결할 것이므로 False로 설정\n",
    "transfer_model = VGG16(weights='imagenet', include_top=False,\n",
    "                       input_shape=(150, 150, 3))\n",
    "transfer_model.trainable = False\n",
    "transfer_model.summary()"
   ]
  },
  {
   "cell_type": "code",
   "execution_count": 8,
   "id": "7d814074",
   "metadata": {},
   "outputs": [
    {
     "name": "stdout",
     "output_type": "stream",
     "text": [
      "Model: \"sequential\"\n",
      "_________________________________________________________________\n",
      " Layer (type)                Output Shape              Param #   \n",
      "=================================================================\n",
      " vgg16 (Functional)          (None, 4, 4, 512)         14714688  \n",
      "                                                                 \n",
      " flatten (Flatten)           (None, 8192)              0         \n",
      "                                                                 \n",
      " dense (Dense)               (None, 64)                524352    \n",
      "                                                                 \n",
      " activation (Activation)     (None, 64)                0         \n",
      "                                                                 \n",
      " dropout (Dropout)           (None, 64)                0         \n",
      "                                                                 \n",
      " dense_1 (Dense)             (None, 1)                 65        \n",
      "                                                                 \n",
      " activation_1 (Activation)   (None, 1)                 0         \n",
      "                                                                 \n",
      "=================================================================\n",
      "Total params: 15,239,105\n",
      "Trainable params: 524,417\n",
      "Non-trainable params: 14,714,688\n",
      "_________________________________________________________________\n"
     ]
    }
   ],
   "source": [
    "# 연결할 모델 생성(로컬 네트워크 만들기)\n",
    "# VGG16의 마지막 층을 우리가 만든 로컬 네트워크를 연결\n",
    "finetune_model = models.Sequential()\n",
    "finetune_model.add(transfer_model)\n",
    "finetune_model.add(layers.Flatten())\n",
    "finetune_model.add(layers.Dense(64))\n",
    "finetune_model.add(layers.Activation('relu'))\n",
    "finetune_model.add(layers.Dropout(0.5))\n",
    "finetune_model.add(layers.Dense(1))\n",
    "finetune_model.add(layers.Activation('sigmoid'))\n",
    "finetune_model.summary()"
   ]
  },
  {
   "cell_type": "code",
   "execution_count": 9,
   "id": "397cbeba",
   "metadata": {},
   "outputs": [],
   "source": [
    "finetune_model.compile(loss='binary_crossentropy', \n",
    "              optimizer=optimizers.Adam(learning_rate=0.0002), # optimizers -> 학습률 지정\n",
    "             metrics=['accuracy'])\n",
    "\n",
    "early_stopping = EarlyStopping(monitor='val_loss', patience=5)"
   ]
  },
  {
   "cell_type": "code",
   "execution_count": 10,
   "id": "38ebead1",
   "metadata": {},
   "outputs": [
    {
     "name": "stdout",
     "output_type": "stream",
     "text": [
      "Epoch 1/20\n",
      "32/32 [==============================] - 40s 1s/step - loss: 0.7582 - accuracy: 0.5375 - val_loss: 0.7382 - val_accuracy: 0.5000\n",
      "Epoch 2/20\n",
      "32/32 [==============================] - 34s 1s/step - loss: 0.6278 - accuracy: 0.6687 - val_loss: 0.5364 - val_accuracy: 0.8417\n",
      "Epoch 3/20\n",
      "32/32 [==============================] - 34s 1s/step - loss: 0.5159 - accuracy: 0.7625 - val_loss: 0.4560 - val_accuracy: 0.8750\n",
      "Epoch 4/20\n",
      "32/32 [==============================] - 36s 1s/step - loss: 0.4504 - accuracy: 0.8438 - val_loss: 0.4022 - val_accuracy: 0.9000\n",
      "Epoch 5/20\n",
      "32/32 [==============================] - 36s 1s/step - loss: 0.4207 - accuracy: 0.8375 - val_loss: 0.3949 - val_accuracy: 0.8500\n",
      "Epoch 6/20\n",
      "32/32 [==============================] - 35s 1s/step - loss: 0.3397 - accuracy: 0.9062 - val_loss: 0.3315 - val_accuracy: 0.9000\n",
      "Epoch 7/20\n",
      "32/32 [==============================] - 32s 1s/step - loss: 0.3169 - accuracy: 0.9062 - val_loss: 0.3089 - val_accuracy: 0.9083\n",
      "Epoch 8/20\n",
      "32/32 [==============================] - 37s 1s/step - loss: 0.2880 - accuracy: 0.9000 - val_loss: 0.2844 - val_accuracy: 0.9333\n",
      "Epoch 9/20\n",
      "32/32 [==============================] - 36s 1s/step - loss: 0.2833 - accuracy: 0.9187 - val_loss: 0.2703 - val_accuracy: 0.9083\n",
      "Epoch 10/20\n",
      "32/32 [==============================] - 34s 1s/step - loss: 0.3126 - accuracy: 0.8938 - val_loss: 0.2483 - val_accuracy: 0.9333\n",
      "Epoch 11/20\n",
      "32/32 [==============================] - 35s 1s/step - loss: 0.2225 - accuracy: 0.9500 - val_loss: 0.2443 - val_accuracy: 0.9083\n",
      "Epoch 12/20\n",
      "32/32 [==============================] - 36s 1s/step - loss: 0.2199 - accuracy: 0.9438 - val_loss: 0.2309 - val_accuracy: 0.9083\n",
      "Epoch 13/20\n",
      "32/32 [==============================] - 34s 1s/step - loss: 0.2270 - accuracy: 0.9187 - val_loss: 0.2042 - val_accuracy: 0.9333\n",
      "Epoch 14/20\n",
      "32/32 [==============================] - 38s 1s/step - loss: 0.2467 - accuracy: 0.9187 - val_loss: 0.2039 - val_accuracy: 0.9667\n",
      "Epoch 15/20\n",
      "32/32 [==============================] - 38s 1s/step - loss: 0.2227 - accuracy: 0.9250 - val_loss: 0.1919 - val_accuracy: 0.9667\n",
      "Epoch 16/20\n",
      "32/32 [==============================] - 34s 1s/step - loss: 0.1826 - accuracy: 0.9563 - val_loss: 0.1900 - val_accuracy: 0.9333\n",
      "Epoch 17/20\n",
      "32/32 [==============================] - 36s 1s/step - loss: 0.1914 - accuracy: 0.9312 - val_loss: 0.1735 - val_accuracy: 0.9333\n",
      "Epoch 18/20\n",
      "32/32 [==============================] - 37s 1s/step - loss: 0.1897 - accuracy: 0.9438 - val_loss: 0.1733 - val_accuracy: 0.9333\n",
      "Epoch 19/20\n",
      "32/32 [==============================] - 19s 577ms/step - loss: 0.1922 - accuracy: 0.9312 - val_loss: 0.1537 - val_accuracy: 0.9583\n",
      "Epoch 20/20\n",
      "32/32 [==============================] - 15s 475ms/step - loss: 0.1991 - accuracy: 0.9375 - val_loss: 0.2754 - val_accuracy: 0.8833\n"
     ]
    }
   ],
   "source": [
    "history = finetune_model.fit(\n",
    "    train_generator, epochs=20,\n",
    "    validation_data=test_generator,\n",
    "    callbacks=[early_stopping]\n",
    ")"
   ]
  },
  {
   "cell_type": "code",
   "execution_count": null,
   "id": "59b20ea6",
   "metadata": {},
   "outputs": [],
   "source": [
    "# 검증셋과 학습셋의 오차를 저장합니다.\n",
    "y_vloss = history.history['val_loss']\n",
    "y_loss = history.history['loss']\n",
    "\n",
    "# 그래프로 표현해 봅니다.\n",
    "x_len = np.arange(len(y_loss))\n",
    "plt.plot(x_len, y_vloss, marker='.', c=\"red\", label='Testset_loss')\n",
    "plt.plot(x_len, y_loss, marker='.', c=\"blue\", label='Trainset_loss')\n",
    "\n",
    "# 그래프에 그리드를 주고 레이블을 표시하겠습니다.\n",
    "plt.legend(loc='upper right')\n",
    "plt.grid()\n",
    "plt.xlabel('epoch')\n",
    "plt.ylabel('loss')\n",
    "plt.show()"
   ]
  }
 ],
 "metadata": {
  "kernelspec": {
   "display_name": "Python 3 (ipykernel)",
   "language": "python",
   "name": "python3"
  },
  "language_info": {
   "codemirror_mode": {
    "name": "ipython",
    "version": 3
   },
   "file_extension": ".py",
   "mimetype": "text/x-python",
   "name": "python",
   "nbconvert_exporter": "python",
   "pygments_lexer": "ipython3",
   "version": "3.8.15"
  }
 },
 "nbformat": 4,
 "nbformat_minor": 5
}
